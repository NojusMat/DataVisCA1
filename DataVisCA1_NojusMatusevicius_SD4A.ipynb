{
 "cells": [
  {
   "cell_type": "markdown",
   "metadata": {},
   "source": [
    " <b>The best country to move to as a newly graduated software developer  </b>\n",
    "\n",
    " \n",
    "Datasets \n",
    "\n",
    "- Indeed Software Engineer Job Dataset \n",
    "https://www.kaggle.com/datasets/samrat77/indeed-software-engineer-job-dataset \n",
    "\n",
    "- Best Cities for Data Scientists \n",
    "https://www.kaggle.com/datasets/pileatedperch/best-cities-for-data-scientists \n",
    "\n",
    "- Healthy Lifestyle Cities Report 2021 \n",
    "https://www.kaggle.com/datasets/prasertk/healthy-lifestyle-cities-report-2021 \n",
    "\n",
    "- LinkedIn Software Engineering Jobs Dataset \n",
    "https://www.kaggle.com/datasets/asaniczka/software-engineer-job-postings-linkedin \n",
    "\n",
    "- Quality of Life for Each Country \n",
    "https://www.kaggle.com/datasets/ahmedmohamed2003/quality-of-life-for-each-country \n",
    "\n",
    "- Quality of Life Index by Country \n",
    "https://www.kaggle.com/datasets/marcelobatalhah/quality-of-life-index-by-country \n",
    " \n",
    "\n",
    "Articles \n",
    "\n",
    "https://www.linkedin.com/pulse/top-10-best-countries-software-engineers-2023-dannielle-seddon \n",
    "1. USA \n",
    "2. Canada \n",
    "3. Switzerland \n",
    "\n",
    "https://www.wearedevelopers.com/en/magazine/267/best-countries-for-software-engineers \n",
    "1. Canada \n",
    "2. Australia \n",
    "3. Sweden \n",
    "\n",
    "https://en.dev.bg/what-are-the-best-countries-for-software-engineers/ \n",
    "1. Canada \n",
    "2. Switzerland \n",
    "3. USA \n",
    "\n",
    "https://www.hackerearth.com/blog/developers/best-countries-software-engineers-developers-work-2017/ \n",
    "1. Switzerland \n",
    "2. Canada \n",
    "3. Australia \n",
    "\n",
    "https://www.geeksforgeeks.org/best-countries-for-software-engineers/ \n",
    "1. Switzerland \n",
    "2. USA \n",
    "3. UK \n",
    "\n",
    "https://medium.com/@analyticsinsight/best-countries-for-programming-jobs-4d264f37e001 \n",
    "1. Switzerland \n",
    "2. USA \n",
    "3. UK \n",
    "\n",
    "https://rolespilot.com/blog/best-countries-for-software-engineers/ \n",
    "1. USA \n",
    "2. Switzerland \n",
    "3. Canada \n",
    "\n",
    "Asking CHATGPT \n",
    "https://chatgpt.com/c/67c8ab10-c968-8000-bd6b-928edde583c2 \n",
    "1. Germany \n",
    "2. Canada \n",
    "3. USA \n",
    "\n",
    "Initial prediction  \n",
    "\n",
    "1. Switzerland \n",
    "2. Canada \n",
    "3. USA \n",
    " "
   ]
  },
  {
   "cell_type": "markdown",
   "metadata": {},
   "source": [
    "<b>1.Theoretical Framework </b>\n",
    "\n",
    "The goal of this project is to create an index that compares countries and identifies the best places for newly graduated software engineers or junior software engineers to move to. This topic was chosen because of the growing demand for software engineers worldwide and for my own personal reason as i want to emigrate once i graduate as a software engineer. It's important for new graduates to know what country will offer them the best opportunity for their career allowing them to develop professionally and the best country regarding living standards.  \n",
    "\n",
    "This index will look at different factors such as salaries, cost of living, quality of life and job demand. These factors will have different levels of importance assigned to them with an overall combined score which will rank the countries on how good they would be to move to as a newly graduated software engineer. "
   ]
  },
  {
   "cell_type": "markdown",
   "metadata": {},
   "source": [
    "2.Data Selection "
   ]
  },
  {
   "cell_type": "markdown",
   "metadata": {},
   "source": [
    "3.Imputation of missing data "
   ]
  },
  {
   "cell_type": "markdown",
   "metadata": {},
   "source": [
    "4.Multivariate Analysis "
   ]
  },
  {
   "cell_type": "markdown",
   "metadata": {},
   "source": [
    "5.Normalization "
   ]
  },
  {
   "cell_type": "markdown",
   "metadata": {},
   "source": [
    "6.Weighting and Aggregation "
   ]
  },
  {
   "cell_type": "markdown",
   "metadata": {},
   "source": [
    "7.Link to other indicators (dont need to do)"
   ]
  },
  {
   "cell_type": "markdown",
   "metadata": {},
   "source": [
    "8.Visualization of Results "
   ]
  },
  {
   "cell_type": "markdown",
   "metadata": {},
   "source": [
    "9.Version control "
   ]
  },
  {
   "cell_type": "markdown",
   "metadata": {},
   "source": [
    "10.Deliverables"
   ]
  }
 ],
 "metadata": {
  "language_info": {
   "name": "python"
  }
 },
 "nbformat": 4,
 "nbformat_minor": 2
}
