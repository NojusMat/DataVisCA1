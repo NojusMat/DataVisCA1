{
 "cells": [
  {
   "cell_type": "markdown",
   "metadata": {},
   "source": [
    " <b>The best country to move to as a newly graduated software developer  </b>\n",
    "\n",
    " \n",
    "Datasets \n",
    "\n",
    "- Indeed Software Engineer Job Dataset \n",
    "https://www.kaggle.com/datasets/samrat77/indeed-software-engineer-job-dataset \n",
    "\n",
    "- Healthy Lifestyle Cities Report 2021 \n",
    "https://www.kaggle.com/datasets/prasertk/healthy-lifestyle-cities-report-2021 \n",
    "\n",
    "- LinkedIn Software Engineering Jobs Dataset \n",
    "https://www.kaggle.com/datasets/asaniczka/software-engineer-job-postings-linkedin \n",
    "\n",
    "- Quality of Life for Each Country \n",
    "https://www.kaggle.com/datasets/ahmedmohamed2003/quality-of-life-for-each-country \n",
    "\n",
    "- Quality of Life Index by Country \n",
    "https://www.kaggle.com/datasets/marcelobatalhah/quality-of-life-index-by-country \n",
    " \n",
    "\n",
    "Articles \n",
    "\n",
    "https://www.linkedin.com/pulse/top-10-best-countries-software-engineers-2023-dannielle-seddon \n",
    "1. USA \n",
    "2. Canada \n",
    "3. Switzerland \n",
    "\n",
    "https://www.wearedevelopers.com/en/magazine/267/best-countries-for-software-engineers \n",
    "1. Canada \n",
    "2. Australia \n",
    "3. Sweden \n",
    "\n",
    "https://en.dev.bg/what-are-the-best-countries-for-software-engineers/ \n",
    "1. Canada \n",
    "2. Switzerland \n",
    "3. USA \n",
    "\n",
    "https://www.hackerearth.com/blog/developers/best-countries-software-engineers-developers-work-2017/ \n",
    "1. Switzerland \n",
    "2. Canada \n",
    "3. Australia \n",
    "\n",
    "https://www.geeksforgeeks.org/best-countries-for-software-engineers/ \n",
    "1. Switzerland \n",
    "2. USA \n",
    "3. UK \n",
    "\n",
    "https://medium.com/@analyticsinsight/best-countries-for-programming-jobs-4d264f37e001 \n",
    "1. Switzerland \n",
    "2. USA \n",
    "3. UK \n",
    "\n",
    "https://rolespilot.com/blog/best-countries-for-software-engineers/ \n",
    "1. USA \n",
    "2. Switzerland \n",
    "3. Canada \n",
    "\n",
    "Asking CHATGPT \n",
    "https://chatgpt.com/c/67c8ab10-c968-8000-bd6b-928edde583c2 \n",
    "1. Germany \n",
    "2. Canada \n",
    "3. USA \n",
    "\n",
    "Initial prediction  \n",
    "\n",
    "1. Switzerland \n",
    "2. Canada \n",
    "3. USA \n",
    " "
   ]
  },
  {
   "cell_type": "code",
   "execution_count": 294,
   "metadata": {},
   "outputs": [],
   "source": [
    "from matplotlib import pyplot as plt\n",
    "import numpy as np\n",
    "import pandas as pd\n",
    "import statsmodels.api as sm\n",
    "from scipy.stats import pearsonr\n",
    "from scipy.stats import pearsonr"
   ]
  },
  {
   "cell_type": "markdown",
   "metadata": {},
   "source": [
    "<b>1.Theoretical Framework </b>\n",
    "\n",
    "The goal of this project is to create an index that compares countries and identifies the best places for newly graduated software engineers or junior software engineers to move to. This topic was chosen because of the growing demand for software engineers worldwide and for my own personal reason as i want to emigrate once i graduate as a software engineer. It's important for new graduates to know what country will offer them the best opportunity for their career allowing them to develop professionally and the best country regarding living standards.  \n",
    "\n",
    "This index will look at different factors such as salaries, cost of living, quality of life and job demand. These factors will have different levels of importance assigned to them with an overall combined score which will rank the countries on how good they would be to move to as a newly graduated software engineer. "
   ]
  },
  {
   "cell_type": "markdown",
   "metadata": {},
   "source": [
    "<b>2.Data Selection</b> "
   ]
  },
  {
   "cell_type": "code",
   "execution_count": 295,
   "metadata": {},
   "outputs": [
    {
     "name": "stdout",
     "output_type": "stream",
     "text": [
      "       Country             Job Title                Category  Salary Currency  \\\n",
      "0  Afghanistan      Account Examiner  Accounting and Finance  501400      AFN   \n",
      "1  Afghanistan     Account Executive  Accounting and Finance  890100      AFN   \n",
      "2  Afghanistan            Accountant  Accounting and Finance  705500      AFN   \n",
      "3  Afghanistan    Accounting Analyst  Accounting and Finance  810500      AFN   \n",
      "4  Afghanistan  Accounting Assistant  Accounting and Finance  552400      AFN   \n",
      "\n",
      "   Exchange Rate  Salary (USD)  \n",
      "0      71.244429       7037.74  \n",
      "1      71.244429      12493.61  \n",
      "2      71.244429       9902.53  \n",
      "3      71.244429      11376.33  \n",
      "4      71.244429       7753.59  \n"
     ]
    }
   ],
   "source": [
    "file_path = 'globalJobs.csv'\n",
    "jobsData = pd.read_csv(file_path)\n",
    "print(jobsData.head())"
   ]
  },
  {
   "cell_type": "code",
   "execution_count": 296,
   "metadata": {},
   "outputs": [
    {
     "name": "stdout",
     "output_type": "stream",
     "text": [
      "         country  Purchasing Power Value Purchasing Power Category  \\\n",
      "0    Afghanistan                   32.15                'Very Low'   \n",
      "1  Aland Islands                  125.01               'Very High'   \n",
      "2        Albania                   42.82                     'Low'   \n",
      "3       Alderney                    0.00                       NaN   \n",
      "4        Algeria                   27.60                'Very Low'   \n",
      "\n",
      "   Safety Value Safety Category  Health Care Value Health Care Category  \\\n",
      "0         25.33           'Low'              24.24                'Low'   \n",
      "1         71.81          'High'              79.72               'High'   \n",
      "2         55.52      'Moderate'              48.21           'Moderate'   \n",
      "3         83.79     'Very High'             100.00          'Very High'   \n",
      "4         47.54      'Moderate'              54.43           'Moderate'   \n",
      "\n",
      "   Climate Value Climate Category  Cost of Living Value  \\\n",
      "0           0.00              NaN                 21.08   \n",
      "1           0.00              NaN                 53.44   \n",
      "2          86.43      'Very High'                 40.85   \n",
      "3           0.00              NaN                  0.00   \n",
      "4          94.82      'Very High'                 25.31   \n",
      "\n",
      "  Cost of Living Category Property Price to Income Value  \\\n",
      "0              'Very Low'                            7.8   \n",
      "1                   'Low'                           5.33   \n",
      "2                   'Low'                          14.88   \n",
      "3                     NaN                            0.0   \n",
      "4              'Very Low'                           21.7   \n",
      "\n",
      "  Property Price to Income Category  Traffic Commute Time Value  \\\n",
      "0                             'Low'                       56.17   \n",
      "1                             'Low'                       19.05   \n",
      "2                            'High'                       36.74   \n",
      "3                               NaN                        5.00   \n",
      "4                       'Very High'                       45.09   \n",
      "\n",
      "  Traffic Commute Time Category  Pollution Value Pollution Category  \\\n",
      "0                   'Very High'            84.44        'Very High'   \n",
      "1                    'Very Low'            18.05         'Very Low'   \n",
      "2                    'Moderate'            77.25             'High'   \n",
      "3                    'Very Low'             1.72         'Very Low'   \n",
      "4                        'High'            63.87             'High'   \n",
      "\n",
      "  Quality of Life Value Quality of Life Category  \n",
      "0                   0.0                      NaN  \n",
      "1                   0.0                      NaN  \n",
      "2            ': 104.16'                    'Low'  \n",
      "3                   0.0                      NaN  \n",
      "4             ': 98.83'               'Very Low'  \n"
     ]
    }
   ],
   "source": [
    "file_path = 'Quality_of_Life.csv'\n",
    "countryData = pd.read_csv(file_path)\n",
    "print(countryData.head())"
   ]
  },
  {
   "cell_type": "markdown",
   "metadata": {},
   "source": [
    "<b>3.Imputation of missing data  </b>"
   ]
  },
  {
   "cell_type": "code",
   "execution_count": 297,
   "metadata": {},
   "outputs": [
    {
     "name": "stdout",
     "output_type": "stream",
     "text": [
      "Country          0\n",
      "Job Title        0\n",
      "Category         0\n",
      "Salary           0\n",
      "Currency         0\n",
      "Exchange Rate    0\n",
      "Salary (USD)     0\n",
      "dtype: int64\n",
      "             Salary  Exchange Rate  Salary (USD)\n",
      "count  8.371250e+05  837125.000000  8.371250e+05\n",
      "mean   8.454217e+06    1531.410036  4.092947e+04\n",
      "std    4.866869e+07    7490.026552  2.645599e+05\n",
      "min    2.020000e+03       0.307772  2.895000e+01\n",
      "25%    3.964000e+04       1.000000  6.255010e+03\n",
      "50%    1.432000e+05      10.803173  1.470430e+04\n",
      "75%    1.621400e+06     177.942203  3.256619e+04\n",
      "max    2.604000e+09   90879.938461  1.617476e+07\n"
     ]
    }
   ],
   "source": [
    "print(jobsData.isnull().sum()) \n",
    "\n",
    "print(jobsData.describe())"
   ]
  },
  {
   "cell_type": "code",
   "execution_count": 298,
   "metadata": {},
   "outputs": [
    {
     "name": "stdout",
     "output_type": "stream",
     "text": [
      "['Information Technology']\n"
     ]
    }
   ],
   "source": [
    "jobsData = jobsData[jobsData[\"Category\"] == \"Information Technology\"]\n",
    "print(jobsData[\"Category\"].unique())"
   ]
  },
  {
   "cell_type": "markdown",
   "metadata": {},
   "source": [
    "<h6>This will remove all the jobs that are not part of the Information Technology Category</h6>"
   ]
  },
  {
   "cell_type": "code",
   "execution_count": 299,
   "metadata": {},
   "outputs": [
    {
     "name": "stdout",
     "output_type": "stream",
     "text": [
      "Total number of rows: 39338\n"
     ]
    }
   ],
   "source": [
    "jobsData = jobsData[~jobsData[\"Job Title\"].str.contains(\"Manager\", case=False, na=False)]\n",
    "jobsData = jobsData[~jobsData[\"Job Title\"].str.contains(\"Director\", case=False, na=False)]\n",
    "jobsData = jobsData[~jobsData[\"Job Title\"].str.contains(\"Executive\", case=False, na=False)]\n",
    "jobsData = jobsData[~jobsData[\"Job Title\"].str.contains(\"Chief Information Officer\", case=False, na=False)]\n",
    "jobsData = jobsData[~jobsData[\"Job Title\"].str.contains(\"Supervisor\", case=False, na=False)]\n",
    "jobsData = jobsData[~jobsData[\"Job Title\"].str.contains(\"Head of\", case=False, na=False)]\n",
    "jobsData = jobsData[~jobsData[\"Job Title\"].str.contains(\"Administrator\", case=False, na=False)]\n",
    "jobsData = jobsData[~jobsData[\"Job Title\"].str.contains(\"Infrastructure\", case=False, na=False)]\n",
    "jobsData = jobsData[~jobsData[\"Job Title\"].str.contains(\"Coordinator\", case=False, na=False)]\n",
    "jobsData = jobsData[~jobsData[\"Job Title\"].str.contains(\"Leader\", case=False, na=False)]\n",
    "jobsData = jobsData[~jobsData[\"Job Title\"].str.contains(\"Trainer\", case=False, na=False)]\n",
    "jobsData = jobsData[~jobsData[\"Job Title\"].str.contains(\"Administration\", case=False, na=False)]\n",
    "jobsData = jobsData[~jobsData[\"Job Title\"].str.contains(\"Lead\", case=False, na=False)]\n",
    "jobsData = jobsData[~jobsData[\"Job Title\"].str.contains(\"Associate\", case=False, na=False)]\n",
    "jobsData = jobsData[~jobsData[\"Job Title\"].str.contains(\"Architect\", case=False, na=False)]\n",
    "jobsData = jobsData[~jobsData[\"Job Title\"].str.contains(\"President\", case=False, na=False)]\n",
    "jobsData = jobsData[~jobsData[\"Job Title\"].str.contains(\"Expert\", case=False, na=False)]\n",
    "jobsData = jobsData[~jobsData[\"Job Title\"].str.contains(\"Consultant\", case=False, na=False)]\n",
    "\n",
    "\n",
    "total_rows = jobsData.shape[0]\n",
    "print(f\"Total number of rows: {total_rows}\")"
   ]
  },
  {
   "cell_type": "markdown",
   "metadata": {},
   "source": [
    "<h6>Check number of rows before and after your remove a job that is not suitable for a Junior Dev</h6>"
   ]
  },
  {
   "cell_type": "code",
   "execution_count": 300,
   "metadata": {},
   "outputs": [
    {
     "name": "stdout",
     "output_type": "stream",
     "text": [
      "          Country                    Job Title  Salary (USD)\n",
      "2293  Afghanistan    2nd Line Systems Engineer      12893.64\n",
      "2294  Afghanistan               ABAP Developer      11636.00\n",
      "2295  Afghanistan  Advertising Account Planner      12139.90\n",
      "2296  Afghanistan            Android Developer      13623.52\n",
      "2297  Afghanistan            Angular Developer      12422.02\n"
     ]
    }
   ],
   "source": [
    "jobsData_Clean = jobsData.drop(columns=[\"Salary\",\"Currency\",\"Exchange Rate\",\"Category\"])\n",
    "print(jobsData_Clean.head())"
   ]
  },
  {
   "cell_type": "code",
   "execution_count": 301,
   "metadata": {},
   "outputs": [
    {
     "name": "stdout",
     "output_type": "stream",
     "text": [
      "country                                0\n",
      "Purchasing Power Value                 0\n",
      "Purchasing Power Category             46\n",
      "Safety Value                           0\n",
      "Safety Category                        2\n",
      "Health Care Value                      0\n",
      "Health Care Category                  15\n",
      "Climate Value                          0\n",
      "Climate Category                     122\n",
      "Cost of Living Value                   0\n",
      "Cost of Living Category               45\n",
      "Property Price to Income Value         0\n",
      "Property Price to Income Category     21\n",
      "Traffic Commute Time Value             0\n",
      "Traffic Commute Time Category         29\n",
      "Pollution Value                        0\n",
      "Pollution Category                    10\n",
      "Quality of Life Value                  0\n",
      "Quality of Life Category             122\n",
      "dtype: int64\n"
     ]
    }
   ],
   "source": [
    "print(countryData.isnull().sum()) "
   ]
  },
  {
   "cell_type": "code",
   "execution_count": 302,
   "metadata": {},
   "outputs": [
    {
     "name": "stdout",
     "output_type": "stream",
     "text": [
      "country                              0\n",
      "Purchasing Power Value               0\n",
      "Purchasing Power Category            0\n",
      "Safety Value                         0\n",
      "Safety Category                      0\n",
      "Health Care Value                    0\n",
      "Health Care Category                 0\n",
      "Climate Value                        0\n",
      "Climate Category                     0\n",
      "Cost of Living Value                 0\n",
      "Cost of Living Category              0\n",
      "Property Price to Income Value       0\n",
      "Property Price to Income Category    0\n",
      "Traffic Commute Time Value           0\n",
      "Traffic Commute Time Category        0\n",
      "Pollution Value                      0\n",
      "Pollution Category                   0\n",
      "Quality of Life Value                0\n",
      "Quality of Life Category             0\n",
      "dtype: int64\n",
      "<class 'pandas.core.frame.DataFrame'>\n",
      "Index: 114 entries, 2 to 235\n",
      "Data columns (total 19 columns):\n",
      " #   Column                             Non-Null Count  Dtype  \n",
      "---  ------                             --------------  -----  \n",
      " 0   country                            114 non-null    object \n",
      " 1   Purchasing Power Value             114 non-null    float64\n",
      " 2   Purchasing Power Category          114 non-null    object \n",
      " 3   Safety Value                       114 non-null    float64\n",
      " 4   Safety Category                    114 non-null    object \n",
      " 5   Health Care Value                  114 non-null    float64\n",
      " 6   Health Care Category               114 non-null    object \n",
      " 7   Climate Value                      114 non-null    float64\n",
      " 8   Climate Category                   114 non-null    object \n",
      " 9   Cost of Living Value               114 non-null    float64\n",
      " 10  Cost of Living Category            114 non-null    object \n",
      " 11  Property Price to Income Value     114 non-null    object \n",
      " 12  Property Price to Income Category  114 non-null    object \n",
      " 13  Traffic Commute Time Value         114 non-null    float64\n",
      " 14  Traffic Commute Time Category      114 non-null    object \n",
      " 15  Pollution Value                    114 non-null    float64\n",
      " 16  Pollution Category                 114 non-null    object \n",
      " 17  Quality of Life Value              114 non-null    object \n",
      " 18  Quality of Life Category           114 non-null    object \n",
      "dtypes: float64(7), object(12)\n",
      "memory usage: 17.8+ KB\n",
      "None\n"
     ]
    }
   ],
   "source": [
    "CountryData_Clean = countryData.dropna(subset=['Quality of Life Category'])\n",
    "print(CountryData_Clean.isnull().sum())\n",
    "print(CountryData_Clean.info())"
   ]
  },
  {
   "cell_type": "code",
   "execution_count": 303,
   "metadata": {},
   "outputs": [
    {
     "name": "stdout",
     "output_type": "stream",
     "text": [
      "[\"'Low'\" \"'Very Low'\" \"'Very High'\" \"'High'\" \"'Moderate'\"]\n"
     ]
    }
   ],
   "source": [
    "\n",
    "print(CountryData_Clean['Purchasing Power Category'].unique())"
   ]
  },
  {
   "cell_type": "code",
   "execution_count": 304,
   "metadata": {},
   "outputs": [
    {
     "name": "stdout",
     "output_type": "stream",
     "text": [
      "[1 0 4 3 2]\n"
     ]
    },
    {
     "name": "stderr",
     "output_type": "stream",
     "text": [
      "C:\\Users\\wwwno\\AppData\\Local\\Temp\\ipykernel_8836\\3474655404.py:2: FutureWarning: Downcasting behavior in `replace` is deprecated and will be removed in a future version. To retain the old behavior, explicitly call `result.infer_objects(copy=False)`. To opt-in to the future behavior, set `pd.set_option('future.no_silent_downcasting', True)`\n",
      "  CountryData_Clean['Purchasing Power Category'] = CountryData_Clean['Purchasing Power Category'].replace(purchasing_power_map)\n",
      "C:\\Users\\wwwno\\AppData\\Local\\Temp\\ipykernel_8836\\3474655404.py:2: SettingWithCopyWarning: \n",
      "A value is trying to be set on a copy of a slice from a DataFrame.\n",
      "Try using .loc[row_indexer,col_indexer] = value instead\n",
      "\n",
      "See the caveats in the documentation: https://pandas.pydata.org/pandas-docs/stable/user_guide/indexing.html#returning-a-view-versus-a-copy\n",
      "  CountryData_Clean['Purchasing Power Category'] = CountryData_Clean['Purchasing Power Category'].replace(purchasing_power_map)\n"
     ]
    }
   ],
   "source": [
    "\n",
    "purchasing_power_map = {\"'Very Low'\": 0,\"'Low'\": 1,\"'Moderate'\": 2,\"'High'\":3 ,\"'Very High'\": 4}\n",
    "CountryData_Clean['Purchasing Power Category'] = CountryData_Clean['Purchasing Power Category'].replace(purchasing_power_map)\n",
    "print(CountryData_Clean['Purchasing Power Category'].unique())"
   ]
  },
  {
   "cell_type": "code",
   "execution_count": 305,
   "metadata": {},
   "outputs": [
    {
     "name": "stdout",
     "output_type": "stream",
     "text": [
      "[2 1 3 4]\n"
     ]
    },
    {
     "name": "stderr",
     "output_type": "stream",
     "text": [
      "C:\\Users\\wwwno\\AppData\\Local\\Temp\\ipykernel_8836\\3399707653.py:2: FutureWarning: Downcasting behavior in `replace` is deprecated and will be removed in a future version. To retain the old behavior, explicitly call `result.infer_objects(copy=False)`. To opt-in to the future behavior, set `pd.set_option('future.no_silent_downcasting', True)`\n",
      "  CountryData_Clean['Safety Category'] = CountryData_Clean['Safety Category'].replace(safery_category_map)\n",
      "C:\\Users\\wwwno\\AppData\\Local\\Temp\\ipykernel_8836\\3399707653.py:2: SettingWithCopyWarning: \n",
      "A value is trying to be set on a copy of a slice from a DataFrame.\n",
      "Try using .loc[row_indexer,col_indexer] = value instead\n",
      "\n",
      "See the caveats in the documentation: https://pandas.pydata.org/pandas-docs/stable/user_guide/indexing.html#returning-a-view-versus-a-copy\n",
      "  CountryData_Clean['Safety Category'] = CountryData_Clean['Safety Category'].replace(safery_category_map)\n"
     ]
    }
   ],
   "source": [
    "safery_category_map = {\"'Very Low'\": 0,\"'Low'\": 1,\"'Moderate'\": 2,\"'High'\":3 ,\"'Very High'\": 4}\n",
    "CountryData_Clean['Safety Category'] = CountryData_Clean['Safety Category'].replace(safery_category_map)\n",
    "print(CountryData_Clean['Safety Category'].unique())"
   ]
  },
  {
   "cell_type": "code",
   "execution_count": null,
   "metadata": {},
   "outputs": [
    {
     "name": "stdout",
     "output_type": "stream",
     "text": [
      "[2 3 4]\n"
     ]
    },
    {
     "name": "stderr",
     "output_type": "stream",
     "text": [
      "C:\\Users\\wwwno\\AppData\\Local\\Temp\\ipykernel_8836\\1322610236.py:3: FutureWarning: Downcasting behavior in `replace` is deprecated and will be removed in a future version. To retain the old behavior, explicitly call `result.infer_objects(copy=False)`. To opt-in to the future behavior, set `pd.set_option('future.no_silent_downcasting', True)`\n",
      "  CountryData_Clean['Health Care Category'] = CountryData_Clean['Health Care Category'].replace(health_care_category_map)\n",
      "C:\\Users\\wwwno\\AppData\\Local\\Temp\\ipykernel_8836\\1322610236.py:3: SettingWithCopyWarning: \n",
      "A value is trying to be set on a copy of a slice from a DataFrame.\n",
      "Try using .loc[row_indexer,col_indexer] = value instead\n",
      "\n",
      "See the caveats in the documentation: https://pandas.pydata.org/pandas-docs/stable/user_guide/indexing.html#returning-a-view-versus-a-copy\n",
      "  CountryData_Clean['Health Care Category'] = CountryData_Clean['Health Care Category'].replace(health_care_category_map)\n"
     ]
    }
   ],
   "source": [
    "health_care_category_map = {\"'Very Low'\": 0,\"'Low'\": 1,\"'Moderate'\": 2,\"'High'\":3 ,\"'Very High'\": 4}\n",
    "CountryData_Clean['Health Care Category'] = CountryData_Clean['Health Care Category'].replace(health_care_category_map)\n",
    "print(CountryData_Clean['Health Care Category'].unique())"
   ]
  },
  {
   "cell_type": "code",
   "execution_count": 307,
   "metadata": {},
   "outputs": [
    {
     "name": "stdout",
     "output_type": "stream",
     "text": [
      "[4 3 2 1]\n"
     ]
    },
    {
     "name": "stderr",
     "output_type": "stream",
     "text": [
      "C:\\Users\\wwwno\\AppData\\Local\\Temp\\ipykernel_8836\\1420564856.py:2: FutureWarning: Downcasting behavior in `replace` is deprecated and will be removed in a future version. To retain the old behavior, explicitly call `result.infer_objects(copy=False)`. To opt-in to the future behavior, set `pd.set_option('future.no_silent_downcasting', True)`\n",
      "  CountryData_Clean['Climate Category'] = CountryData_Clean['Climate Category'].replace(climate_category_map)\n",
      "C:\\Users\\wwwno\\AppData\\Local\\Temp\\ipykernel_8836\\1420564856.py:2: SettingWithCopyWarning: \n",
      "A value is trying to be set on a copy of a slice from a DataFrame.\n",
      "Try using .loc[row_indexer,col_indexer] = value instead\n",
      "\n",
      "See the caveats in the documentation: https://pandas.pydata.org/pandas-docs/stable/user_guide/indexing.html#returning-a-view-versus-a-copy\n",
      "  CountryData_Clean['Climate Category'] = CountryData_Clean['Climate Category'].replace(climate_category_map)\n"
     ]
    }
   ],
   "source": [
    "climate_category_map = {\"'Very Low'\": 0,\"'Low'\": 1,\"'Moderate'\": 2,\"'High'\":3 ,\"'Very High'\": 4}\n",
    "CountryData_Clean['Climate Category'] = CountryData_Clean['Climate Category'].replace(climate_category_map)\n",
    "print(CountryData_Clean['Climate Category'].unique())"
   ]
  },
  {
   "cell_type": "code",
   "execution_count": 308,
   "metadata": {},
   "outputs": [
    {
     "name": "stdout",
     "output_type": "stream",
     "text": [
      "[1 0 2 3 4]\n"
     ]
    },
    {
     "name": "stderr",
     "output_type": "stream",
     "text": [
      "C:\\Users\\wwwno\\AppData\\Local\\Temp\\ipykernel_8836\\3080528575.py:2: FutureWarning: Downcasting behavior in `replace` is deprecated and will be removed in a future version. To retain the old behavior, explicitly call `result.infer_objects(copy=False)`. To opt-in to the future behavior, set `pd.set_option('future.no_silent_downcasting', True)`\n",
      "  CountryData_Clean['Cost of Living Category'] = CountryData_Clean['Cost of Living Category'].replace(cost_of_living_category_map)\n",
      "C:\\Users\\wwwno\\AppData\\Local\\Temp\\ipykernel_8836\\3080528575.py:2: SettingWithCopyWarning: \n",
      "A value is trying to be set on a copy of a slice from a DataFrame.\n",
      "Try using .loc[row_indexer,col_indexer] = value instead\n",
      "\n",
      "See the caveats in the documentation: https://pandas.pydata.org/pandas-docs/stable/user_guide/indexing.html#returning-a-view-versus-a-copy\n",
      "  CountryData_Clean['Cost of Living Category'] = CountryData_Clean['Cost of Living Category'].replace(cost_of_living_category_map)\n"
     ]
    }
   ],
   "source": [
    "cost_of_living_category_map = {\"'Very Low'\": 0,\"'Low'\": 1,\"'Moderate'\": 2,\"'High'\":3 ,\"'Very High'\": 4}\n",
    "CountryData_Clean['Cost of Living Category'] = CountryData_Clean['Cost of Living Category'].replace(cost_of_living_category_map)\n",
    "print(CountryData_Clean['Cost of Living Category'].unique())"
   ]
  },
  {
   "cell_type": "code",
   "execution_count": 309,
   "metadata": {},
   "outputs": [
    {
     "name": "stdout",
     "output_type": "stream",
     "text": [
      "[3 4 2 0 1]\n"
     ]
    },
    {
     "name": "stderr",
     "output_type": "stream",
     "text": [
      "C:\\Users\\wwwno\\AppData\\Local\\Temp\\ipykernel_8836\\1186502624.py:2: FutureWarning: Downcasting behavior in `replace` is deprecated and will be removed in a future version. To retain the old behavior, explicitly call `result.infer_objects(copy=False)`. To opt-in to the future behavior, set `pd.set_option('future.no_silent_downcasting', True)`\n",
      "  CountryData_Clean['Property Price to Income Category'] = CountryData_Clean['Property Price to Income Category'].replace(property_price_to_income_category_map)\n",
      "C:\\Users\\wwwno\\AppData\\Local\\Temp\\ipykernel_8836\\1186502624.py:2: SettingWithCopyWarning: \n",
      "A value is trying to be set on a copy of a slice from a DataFrame.\n",
      "Try using .loc[row_indexer,col_indexer] = value instead\n",
      "\n",
      "See the caveats in the documentation: https://pandas.pydata.org/pandas-docs/stable/user_guide/indexing.html#returning-a-view-versus-a-copy\n",
      "  CountryData_Clean['Property Price to Income Category'] = CountryData_Clean['Property Price to Income Category'].replace(property_price_to_income_category_map)\n"
     ]
    }
   ],
   "source": [
    "property_price_to_income_category_map = {\"'Very Low'\": 0,\"'Low'\": 1,\"'Moderate'\": 2,\"'High'\":3 ,\"'Very High'\": 4}\n",
    "CountryData_Clean['Property Price to Income Category'] = CountryData_Clean['Property Price to Income Category'].replace(property_price_to_income_category_map)\n",
    "print(CountryData_Clean['Property Price to Income Category'].unique())"
   ]
  },
  {
   "cell_type": "code",
   "execution_count": 310,
   "metadata": {},
   "outputs": [
    {
     "name": "stdout",
     "output_type": "stream",
     "text": [
      "[2 3 1 0 4]\n"
     ]
    },
    {
     "name": "stderr",
     "output_type": "stream",
     "text": [
      "C:\\Users\\wwwno\\AppData\\Local\\Temp\\ipykernel_8836\\4253795948.py:2: FutureWarning: Downcasting behavior in `replace` is deprecated and will be removed in a future version. To retain the old behavior, explicitly call `result.infer_objects(copy=False)`. To opt-in to the future behavior, set `pd.set_option('future.no_silent_downcasting', True)`\n",
      "  CountryData_Clean['Traffic Commute Time Category'] = CountryData_Clean['Traffic Commute Time Category'].replace(traffic_commute_time_category_map)\n",
      "C:\\Users\\wwwno\\AppData\\Local\\Temp\\ipykernel_8836\\4253795948.py:2: SettingWithCopyWarning: \n",
      "A value is trying to be set on a copy of a slice from a DataFrame.\n",
      "Try using .loc[row_indexer,col_indexer] = value instead\n",
      "\n",
      "See the caveats in the documentation: https://pandas.pydata.org/pandas-docs/stable/user_guide/indexing.html#returning-a-view-versus-a-copy\n",
      "  CountryData_Clean['Traffic Commute Time Category'] = CountryData_Clean['Traffic Commute Time Category'].replace(traffic_commute_time_category_map)\n"
     ]
    }
   ],
   "source": [
    "traffic_commute_time_category_map = {\"'Very Low'\": 0,\"'Low'\": 1,\"'Moderate'\": 2,\"'High'\":3 ,\"'Very High'\": 4}\n",
    "CountryData_Clean['Traffic Commute Time Category'] = CountryData_Clean['Traffic Commute Time Category'].replace(traffic_commute_time_category_map)\n",
    "print(CountryData_Clean['Traffic Commute Time Category'].unique())"
   ]
  },
  {
   "cell_type": "code",
   "execution_count": 311,
   "metadata": {},
   "outputs": [
    {
     "name": "stdout",
     "output_type": "stream",
     "text": [
      "[3 2 1 4 0]\n"
     ]
    },
    {
     "name": "stderr",
     "output_type": "stream",
     "text": [
      "C:\\Users\\wwwno\\AppData\\Local\\Temp\\ipykernel_8836\\2455468286.py:2: FutureWarning: Downcasting behavior in `replace` is deprecated and will be removed in a future version. To retain the old behavior, explicitly call `result.infer_objects(copy=False)`. To opt-in to the future behavior, set `pd.set_option('future.no_silent_downcasting', True)`\n",
      "  CountryData_Clean['Pollution Category'] = CountryData_Clean['Pollution Category'].replace(pollution_category_map)\n",
      "C:\\Users\\wwwno\\AppData\\Local\\Temp\\ipykernel_8836\\2455468286.py:2: SettingWithCopyWarning: \n",
      "A value is trying to be set on a copy of a slice from a DataFrame.\n",
      "Try using .loc[row_indexer,col_indexer] = value instead\n",
      "\n",
      "See the caveats in the documentation: https://pandas.pydata.org/pandas-docs/stable/user_guide/indexing.html#returning-a-view-versus-a-copy\n",
      "  CountryData_Clean['Pollution Category'] = CountryData_Clean['Pollution Category'].replace(pollution_category_map)\n"
     ]
    }
   ],
   "source": [
    "pollution_category_map = {\"'Very Low'\": 0,\"'Low'\": 1,\"'Moderate'\": 2,\"'High'\":3 ,\"'Very High'\": 4}\n",
    "CountryData_Clean['Pollution Category'] = CountryData_Clean['Pollution Category'].replace(pollution_category_map)\n",
    "print(CountryData_Clean['Pollution Category'].unique())"
   ]
  },
  {
   "cell_type": "code",
   "execution_count": 312,
   "metadata": {},
   "outputs": [
    {
     "name": "stdout",
     "output_type": "stream",
     "text": [
      "[1 0 4 3 2]\n"
     ]
    },
    {
     "name": "stderr",
     "output_type": "stream",
     "text": [
      "C:\\Users\\wwwno\\AppData\\Local\\Temp\\ipykernel_8836\\1696964073.py:2: FutureWarning: Downcasting behavior in `replace` is deprecated and will be removed in a future version. To retain the old behavior, explicitly call `result.infer_objects(copy=False)`. To opt-in to the future behavior, set `pd.set_option('future.no_silent_downcasting', True)`\n",
      "  CountryData_Clean['Quality of Life Category'] = CountryData_Clean['Quality of Life Category'].replace(quality_of_life_category_map)\n",
      "C:\\Users\\wwwno\\AppData\\Local\\Temp\\ipykernel_8836\\1696964073.py:2: SettingWithCopyWarning: \n",
      "A value is trying to be set on a copy of a slice from a DataFrame.\n",
      "Try using .loc[row_indexer,col_indexer] = value instead\n",
      "\n",
      "See the caveats in the documentation: https://pandas.pydata.org/pandas-docs/stable/user_guide/indexing.html#returning-a-view-versus-a-copy\n",
      "  CountryData_Clean['Quality of Life Category'] = CountryData_Clean['Quality of Life Category'].replace(quality_of_life_category_map)\n"
     ]
    }
   ],
   "source": [
    "quality_of_life_category_map = {\"'Very Low'\": 0,\"'Low'\": 1,\"'Moderate'\": 2,\"'High'\":3 ,\"'Very High'\": 4}\n",
    "CountryData_Clean['Quality of Life Category'] = CountryData_Clean['Quality of Life Category'].replace(quality_of_life_category_map)\n",
    "print(CountryData_Clean['Quality of Life Category'].unique())"
   ]
  },
  {
   "cell_type": "code",
   "execution_count": 313,
   "metadata": {},
   "outputs": [
    {
     "name": "stdout",
     "output_type": "stream",
     "text": [
      "      country  Purchasing Power Value  Purchasing Power Category  \\\n",
      "2     Albania                   42.82                          1   \n",
      "4     Algeria                   27.60                          0   \n",
      "10  Argentina                   40.36                          1   \n",
      "11    Armenia                   36.91                          0   \n",
      "13  Australia                  137.58                          4   \n",
      "\n",
      "    Safety Value  Safety Category  Health Care Value  Health Care Category  \\\n",
      "2          55.52                2              48.21                     2   \n",
      "4          47.54                2              54.43                     2   \n",
      "10         36.36                1              68.00                     3   \n",
      "11         77.81                3              58.07                     2   \n",
      "13         52.71                2              73.35                     3   \n",
      "\n",
      "    Climate Value  Climate Category  Cost of Living Value  \\\n",
      "2           86.43                 4                 40.85   \n",
      "4           94.82                 4                 25.31   \n",
      "10          98.28                 4                 32.65   \n",
      "11          63.42                 3                 41.84   \n",
      "13          93.80                 4                 64.50   \n",
      "\n",
      "    Cost of Living Category Property Price to Income Value  \\\n",
      "2                         1                          14.88   \n",
      "4                         0                           21.7   \n",
      "10                        0                          20.05   \n",
      "11                        1                          20.95   \n",
      "13                        2                           8.25   \n",
      "\n",
      "    Property Price to Income Category  Traffic Commute Time Value  \\\n",
      "2                                   3                       36.74   \n",
      "4                                   4                       45.09   \n",
      "10                                  4                       44.07   \n",
      "11                                  4                       29.31   \n",
      "13                                  2                       37.48   \n",
      "\n",
      "    Traffic Commute Time Category  Pollution Value  Pollution Category  \\\n",
      "2                               2            77.25                   3   \n",
      "4                               3            63.87                   3   \n",
      "10                              3            50.81                   2   \n",
      "11                              1            62.55                   3   \n",
      "13                              2            26.80                   1   \n",
      "\n",
      "   Quality of Life Value  Quality of Life Category  \n",
      "2             ': 104.16'                         1  \n",
      "4              ': 98.83'                         0  \n",
      "10            ': 115.06'                         1  \n",
      "11            ': 116.56'                         1  \n",
      "13            ': 190.69'                         4  \n"
     ]
    }
   ],
   "source": [
    "print(CountryData_Clean.head())"
   ]
  },
  {
   "cell_type": "markdown",
   "metadata": {},
   "source": [
    "<b>4.Multivariate Analysis </b>"
   ]
  },
  {
   "cell_type": "markdown",
   "metadata": {},
   "source": [
    "5.Normalization "
   ]
  },
  {
   "cell_type": "markdown",
   "metadata": {},
   "source": [
    "6.Weighting and Aggregation "
   ]
  },
  {
   "cell_type": "markdown",
   "metadata": {},
   "source": [
    "7.Link to other indicators (dont need to do)"
   ]
  },
  {
   "cell_type": "markdown",
   "metadata": {},
   "source": [
    "8.Visualization of Results "
   ]
  },
  {
   "cell_type": "markdown",
   "metadata": {},
   "source": [
    "9.Version control "
   ]
  },
  {
   "cell_type": "markdown",
   "metadata": {},
   "source": [
    "10.Deliverables"
   ]
  }
 ],
 "metadata": {
  "kernelspec": {
   "display_name": "Python 3",
   "language": "python",
   "name": "python3"
  },
  "language_info": {
   "codemirror_mode": {
    "name": "ipython",
    "version": 3
   },
   "file_extension": ".py",
   "mimetype": "text/x-python",
   "name": "python",
   "nbconvert_exporter": "python",
   "pygments_lexer": "ipython3",
   "version": "3.11.9"
  }
 },
 "nbformat": 4,
 "nbformat_minor": 2
}
