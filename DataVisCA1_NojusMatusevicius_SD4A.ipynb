{
 "cells": [
  {
   "cell_type": "markdown",
   "metadata": {},
   "source": [
    " <b>The best country to move to as a newly graduated software developer  </b>\n",
    "\n",
    " \n",
    "Datasets \n",
    "\n",
    "- Indeed Software Engineer Job Dataset \n",
    "https://www.kaggle.com/datasets/samrat77/indeed-software-engineer-job-dataset \n",
    "\n",
    "- Healthy Lifestyle Cities Report 2021 \n",
    "https://www.kaggle.com/datasets/prasertk/healthy-lifestyle-cities-report-2021 \n",
    "\n",
    "- LinkedIn Software Engineering Jobs Dataset \n",
    "https://www.kaggle.com/datasets/asaniczka/software-engineer-job-postings-linkedin \n",
    "\n",
    "- Quality of Life for Each Country \n",
    "https://www.kaggle.com/datasets/ahmedmohamed2003/quality-of-life-for-each-country \n",
    "\n",
    "- Quality of Life Index by Country \n",
    "https://www.kaggle.com/datasets/marcelobatalhah/quality-of-life-index-by-country \n",
    " \n",
    "\n",
    "Articles \n",
    "\n",
    "https://www.linkedin.com/pulse/top-10-best-countries-software-engineers-2023-dannielle-seddon \n",
    "1. USA \n",
    "2. Canada \n",
    "3. Switzerland \n",
    "\n",
    "https://www.wearedevelopers.com/en/magazine/267/best-countries-for-software-engineers \n",
    "1. Canada \n",
    "2. Australia \n",
    "3. Sweden \n",
    "\n",
    "https://en.dev.bg/what-are-the-best-countries-for-software-engineers/ \n",
    "1. Canada \n",
    "2. Switzerland \n",
    "3. USA \n",
    "\n",
    "https://www.hackerearth.com/blog/developers/best-countries-software-engineers-developers-work-2017/ \n",
    "1. Switzerland \n",
    "2. Canada \n",
    "3. Australia \n",
    "\n",
    "https://www.geeksforgeeks.org/best-countries-for-software-engineers/ \n",
    "1. Switzerland \n",
    "2. USA \n",
    "3. UK \n",
    "\n",
    "https://medium.com/@analyticsinsight/best-countries-for-programming-jobs-4d264f37e001 \n",
    "1. Switzerland \n",
    "2. USA \n",
    "3. UK \n",
    "\n",
    "https://rolespilot.com/blog/best-countries-for-software-engineers/ \n",
    "1. USA \n",
    "2. Switzerland \n",
    "3. Canada \n",
    "\n",
    "Asking CHATGPT \n",
    "https://chatgpt.com/c/67c8ab10-c968-8000-bd6b-928edde583c2 \n",
    "1. Germany \n",
    "2. Canada \n",
    "3. USA \n",
    "\n",
    "Initial prediction  \n",
    "\n",
    "1. Switzerland \n",
    "2. Canada \n",
    "3. USA \n",
    " "
   ]
  },
  {
   "cell_type": "code",
   "execution_count": 1,
   "metadata": {},
   "outputs": [],
   "source": [
    "from matplotlib import pyplot as plt\n",
    "import numpy as np\n",
    "import pandas as pd\n",
    "import statsmodels.api as sm\n",
    "from scipy.stats import pearsonr\n",
    "from scipy.stats import pearsonr\n",
    "from sklearn.linear_model import LinearRegression"
   ]
  },
  {
   "cell_type": "markdown",
   "metadata": {},
   "source": [
    "<b>1.Theoretical Framework </b>\n",
    "\n",
    "The goal of this project is to create an index that compares countries and identifies the best places for newly graduated software engineers or junior software engineers to move to. This topic was chosen because of the growing demand for software engineers worldwide and for my own personal reason as i want to emigrate once i graduate as a software engineer. It's important for new graduates to know what country will offer them the best opportunity for their career allowing them to develop professionally and the best country regarding living standards.  \n",
    "\n",
    "This index will look at different factors such as salaries, cost of living, quality of life and job demand. These factors will have different levels of importance assigned to them with an overall combined score which will rank the countries on how good they would be to move to as a newly graduated software engineer. "
   ]
  },
  {
   "cell_type": "markdown",
   "metadata": {},
   "source": [
    "2.Data Selection "
   ]
  },
  {
   "cell_type": "code",
   "execution_count": 2,
   "metadata": {},
   "outputs": [
    {
     "name": "stdout",
     "output_type": "stream",
     "text": [
      "   Unnamed: 0                             Name              Company  \\\n",
      "0           0    Entry level Software Engineer  CapitalPlanHoldings   \n",
      "1           1         Junior Software Engineer            FormSwift   \n",
      "2           2                Software Engineer            Microsoft   \n",
      "3           3  Software Engineer - Entry Level             Pathrise   \n",
      "4           4       Software Engineer (Python)                Imgix   \n",
      "\n",
      "                         City  Ratings  \\\n",
      "0           San Francisco, CA      NaN   \n",
      "1           San Francisco, CA      NaN   \n",
      "2           San Francisco, CA      4.2   \n",
      "3  San Francisco Bay Area, CA      NaN   \n",
      "4           San Francisco, CA      NaN   \n",
      "\n",
      "                                             Summary          Date  \n",
      "0  Programming experience using C#, C++, or Java ...    2 days ago  \n",
      "1  Building new product features across the back ...  30+ days ago  \n",
      "2  Yammer-THE social network for workplace-is hir...    5 days ago  \n",
      "3  You'll be expected to deliver in an agile envi...    2 days ago  \n",
      "4  Comfortable developing in Python (or similar)....    5 days ago  \n"
     ]
    }
   ],
   "source": [
    "file_path = 'Indeed_10k.csv'\n",
    "data = pd.read_csv(file_path)\n",
    "print(data.head())"
   ]
  },
  {
   "cell_type": "code",
   "execution_count": 3,
   "metadata": {},
   "outputs": [
    {
     "name": "stdout",
     "output_type": "stream",
     "text": [
      "         country  Purchasing Power Value Purchasing Power Category  \\\n",
      "0    Afghanistan                   32.15                'Very Low'   \n",
      "1  Aland Islands                  125.01               'Very High'   \n",
      "2        Albania                   42.82                     'Low'   \n",
      "3       Alderney                    0.00                       NaN   \n",
      "4        Algeria                   27.60                'Very Low'   \n",
      "\n",
      "   Safety Value Safety Category  Health Care Value Health Care Category  \\\n",
      "0         25.33           'Low'              24.24                'Low'   \n",
      "1         71.81          'High'              79.72               'High'   \n",
      "2         55.52      'Moderate'              48.21           'Moderate'   \n",
      "3         83.79     'Very High'             100.00          'Very High'   \n",
      "4         47.54      'Moderate'              54.43           'Moderate'   \n",
      "\n",
      "   Climate Value Climate Category  Cost of Living Value  \\\n",
      "0           0.00              NaN                 21.08   \n",
      "1           0.00              NaN                 53.44   \n",
      "2          86.43      'Very High'                 40.85   \n",
      "3           0.00              NaN                  0.00   \n",
      "4          94.82      'Very High'                 25.31   \n",
      "\n",
      "  Cost of Living Category Property Price to Income Value  \\\n",
      "0              'Very Low'                            7.8   \n",
      "1                   'Low'                           5.33   \n",
      "2                   'Low'                          14.88   \n",
      "3                     NaN                            0.0   \n",
      "4              'Very Low'                           21.7   \n",
      "\n",
      "  Property Price to Income Category  Traffic Commute Time Value  \\\n",
      "0                             'Low'                       56.17   \n",
      "1                             'Low'                       19.05   \n",
      "2                            'High'                       36.74   \n",
      "3                               NaN                        5.00   \n",
      "4                       'Very High'                       45.09   \n",
      "\n",
      "  Traffic Commute Time Category  Pollution Value Pollution Category  \\\n",
      "0                   'Very High'            84.44        'Very High'   \n",
      "1                    'Very Low'            18.05         'Very Low'   \n",
      "2                    'Moderate'            77.25             'High'   \n",
      "3                    'Very Low'             1.72         'Very Low'   \n",
      "4                        'High'            63.87             'High'   \n",
      "\n",
      "  Quality of Life Value Quality of Life Category  \n",
      "0                   0.0                      NaN  \n",
      "1                   0.0                      NaN  \n",
      "2            ': 104.16'                    'Low'  \n",
      "3                   0.0                      NaN  \n",
      "4             ': 98.83'               'Very Low'  \n"
     ]
    }
   ],
   "source": [
    "file_path = 'Quality_of_Life.csv'\n",
    "data = pd.read_csv(file_path)\n",
    "print(data.head())"
   ]
  },
  {
   "cell_type": "markdown",
   "metadata": {},
   "source": [
    "3.Imputation of missing data "
   ]
  },
  {
   "cell_type": "markdown",
   "metadata": {},
   "source": [
    "4.Multivariate Analysis "
   ]
  },
  {
   "cell_type": "markdown",
   "metadata": {},
   "source": [
    "5.Normalization "
   ]
  },
  {
   "cell_type": "markdown",
   "metadata": {},
   "source": [
    "6.Weighting and Aggregation "
   ]
  },
  {
   "cell_type": "markdown",
   "metadata": {},
   "source": [
    "7.Link to other indicators (dont need to do)"
   ]
  },
  {
   "cell_type": "markdown",
   "metadata": {},
   "source": [
    "8.Visualization of Results "
   ]
  },
  {
   "cell_type": "markdown",
   "metadata": {},
   "source": [
    "9.Version control "
   ]
  },
  {
   "cell_type": "markdown",
   "metadata": {},
   "source": [
    "10.Deliverables"
   ]
  }
 ],
 "metadata": {
  "kernelspec": {
   "display_name": "Python 3",
   "language": "python",
   "name": "python3"
  },
  "language_info": {
   "codemirror_mode": {
    "name": "ipython",
    "version": 3
   },
   "file_extension": ".py",
   "mimetype": "text/x-python",
   "name": "python",
   "nbconvert_exporter": "python",
   "pygments_lexer": "ipython3",
   "version": "3.11.9"
  }
 },
 "nbformat": 4,
 "nbformat_minor": 2
}
